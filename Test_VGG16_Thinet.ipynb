{
 "cells": [
  {
   "cell_type": "code",
   "execution_count": 27,
   "metadata": {},
   "outputs": [],
   "source": [
    "import argparse\n",
    "import easydict\n",
    "\n",
    "from utils.config import *\n",
    "from utils.count_model import *\n",
    "from agents import *\n",
    "from torchsummaryX import summary\n"
   ]
  },
  {
   "cell_type": "code",
   "execution_count": 28,
   "metadata": {
    "scrolled": true
   },
   "outputs": [
    {
     "name": "stdout",
     "output_type": "stream",
     "text": [
      "Files already downloaded and verified\n",
      "num_pruned 25\n",
      "indices_pruned !!!  [59, 42, 24, 13, 7, 25, 47, 60, 61, 16, 28, 48, 32, 1, 56, 8, 33, 46, 20, 10, 44, 36, 53, 14, 9]\n"
     ]
    },
    {
     "ename": "AssertionError",
     "evalue": "Torch not compiled with CUDA enabled",
     "output_type": "error",
     "traceback": [
      "\u001b[0;31m---------------------------------------------------------------------------\u001b[0m",
      "\u001b[0;31mAssertionError\u001b[0m                            Traceback (most recent call last)",
      "\u001b[1;32mセル2 を /Users/bumuxiyu/Desktop/Tokyo institute of technology/code/ThiNet/Channel-Pruning-using-Thinet-LASSO-/Test_VGG16_Thinet.ipynb\u001b[0m in \u001b[0;36m<cell line: 26>\u001b[0;34m()\u001b[0m\n\u001b[1;32m     <a href='vscode-notebook-cell:/Users/bumuxiyu/Desktop/Tokyo%20institute%20of%20technology/code/ThiNet/Channel-Pruning-using-Thinet-LASSO-/Test_VGG16_Thinet.ipynb#ch0000001?line=23'>24</a>\u001b[0m agent\u001b[39m.\u001b[39minit_graph()\n\u001b[1;32m     <a href='vscode-notebook-cell:/Users/bumuxiyu/Desktop/Tokyo%20institute%20of%20technology/code/ThiNet/Channel-Pruning-using-Thinet-LASSO-/Test_VGG16_Thinet.ipynb#ch0000001?line=24'>25</a>\u001b[0m agent\u001b[39m.\u001b[39mload_checkpoint(config\u001b[39m.\u001b[39mload_file)\n\u001b[0;32m---> <a href='vscode-notebook-cell:/Users/bumuxiyu/Desktop/Tokyo%20institute%20of%20technology/code/ThiNet/Channel-Pruning-using-Thinet-LASSO-/Test_VGG16_Thinet.ipynb#ch0000001?line=25'>26</a>\u001b[0m agent\u001b[39m.\u001b[39;49mcompress(method \u001b[39m=\u001b[39;49m \u001b[39m'\u001b[39;49m\u001b[39mgreedy\u001b[39;49m\u001b[39m'\u001b[39;49m,k\u001b[39m=\u001b[39;49m\u001b[39m0.62\u001b[39;49m)\n\u001b[1;32m     <a href='vscode-notebook-cell:/Users/bumuxiyu/Desktop/Tokyo%20institute%20of%20technology/code/ThiNet/Channel-Pruning-using-Thinet-LASSO-/Test_VGG16_Thinet.ipynb#ch0000001?line=26'>27</a>\u001b[0m summary(agent\u001b[39m.\u001b[39mmodel, torch\u001b[39m.\u001b[39mzeros((\u001b[39m1\u001b[39m, \u001b[39m3\u001b[39m, \u001b[39m32\u001b[39m, \u001b[39m32\u001b[39m))\u001b[39m.\u001b[39mto(torch\u001b[39m.\u001b[39mdevice(\u001b[39m\"\u001b[39m\u001b[39mcuda\u001b[39m\u001b[39m\"\u001b[39m)))\n\u001b[1;32m     <a href='vscode-notebook-cell:/Users/bumuxiyu/Desktop/Tokyo%20institute%20of%20technology/code/ThiNet/Channel-Pruning-using-Thinet-LASSO-/Test_VGG16_Thinet.ipynb#ch0000001?line=27'>28</a>\u001b[0m best,history \u001b[39m=\u001b[39m agent\u001b[39m.\u001b[39mtrain(specializing\u001b[39m=\u001b[39m\u001b[39mFalse\u001b[39;00m, freeze_conv\u001b[39m=\u001b[39m\u001b[39mFalse\u001b[39;00m)\n",
      "File \u001b[0;32m~/Desktop/Tokyo institute of technology/code/ThiNet/Channel-Pruning-using-Thinet-LASSO-/utils/misc.py:10\u001b[0m, in \u001b[0;36mtimeit.<locals>.timed\u001b[0;34m(*args, **kwargs)\u001b[0m\n\u001b[1;32m      8\u001b[0m \u001b[39mdef\u001b[39;00m \u001b[39mtimed\u001b[39m(\u001b[39m*\u001b[39margs, \u001b[39m*\u001b[39m\u001b[39m*\u001b[39mkwargs):\n\u001b[1;32m      9\u001b[0m     start_time \u001b[39m=\u001b[39m time\u001b[39m.\u001b[39mtime()\n\u001b[0;32m---> 10\u001b[0m     result \u001b[39m=\u001b[39m f(\u001b[39m*\u001b[39;49margs, \u001b[39m*\u001b[39;49m\u001b[39m*\u001b[39;49mkwargs)\n\u001b[1;32m     11\u001b[0m     end_time \u001b[39m=\u001b[39m time\u001b[39m.\u001b[39mtime()\n\u001b[1;32m     12\u001b[0m     seconds \u001b[39m=\u001b[39m end_time \u001b[39m-\u001b[39m start_time\n",
      "File \u001b[0;32m~/Desktop/Tokyo institute of technology/code/ThiNet/Channel-Pruning-using-Thinet-LASSO-/agents/VGG_BN_cifar.py:265\u001b[0m, in \u001b[0;36mVGG_BN_cifar.compress\u001b[0;34m(self, method, k)\u001b[0m\n\u001b[1;32m    263\u001b[0m bn, next_m \u001b[39m=\u001b[39m \u001b[39mself\u001b[39m\u001b[39m.\u001b[39mnamed_modules_list[\u001b[39mstr\u001b[39m(i) \u001b[39m+\u001b[39m \u001b[39m'\u001b[39m\u001b[39m.bn\u001b[39m\u001b[39m'\u001b[39m], \u001b[39mself\u001b[39m\u001b[39m.\u001b[39mnamed_modules_list[\u001b[39mstr\u001b[39m(i \u001b[39m+\u001b[39m \u001b[39m1\u001b[39m) \u001b[39m+\u001b[39m \u001b[39m'\u001b[39m\u001b[39m.conv\u001b[39m\u001b[39m'\u001b[39m]\n\u001b[1;32m    264\u001b[0m next_input_features \u001b[39m=\u001b[39m \u001b[39mself\u001b[39m\u001b[39m.\u001b[39mmodel\u001b[39m.\u001b[39mfeatures[:next_m_idx](inputs)\n\u001b[0;32m--> 265\u001b[0m indices_stayed, indices_pruned \u001b[39m=\u001b[39m channel_selection(next_input_features, next_m, sparsity\u001b[39m=\u001b[39;49m(\u001b[39m1.\u001b[39;49m \u001b[39m-\u001b[39;49m k),\n\u001b[1;32m    266\u001b[0m                                                    method\u001b[39m=\u001b[39;49m\u001b[39m'\u001b[39;49m\u001b[39mgreedy\u001b[39;49m\u001b[39m'\u001b[39;49m)\n\u001b[1;32m    267\u001b[0m module_surgery(m, bn, next_m, indices_stayed)\n\u001b[1;32m    269\u001b[0m next_output_features \u001b[39m=\u001b[39m \u001b[39mself\u001b[39m\u001b[39m.\u001b[39moriginal_conv_output[\u001b[39mstr\u001b[39m(i \u001b[39m+\u001b[39m \u001b[39m1\u001b[39m) \u001b[39m+\u001b[39m \u001b[39m'\u001b[39m\u001b[39m.conv\u001b[39m\u001b[39m'\u001b[39m]\n",
      "File \u001b[0;32m~/Desktop/Tokyo institute of technology/code/ThiNet/Channel-Pruning-using-Thinet-LASSO-/prune/channel.py:138\u001b[0m, in \u001b[0;36mchannel_selection\u001b[0;34m(inputs, module, sparsity, method)\u001b[0m\n\u001b[1;32m    135\u001b[0m \u001b[39melse\u001b[39;00m:\n\u001b[1;32m    136\u001b[0m     \u001b[39mraise\u001b[39;00m \u001b[39mNotImplementedError\u001b[39;00m\n\u001b[0;32m--> 138\u001b[0m inputs \u001b[39m=\u001b[39m inputs\u001b[39m.\u001b[39;49mcuda()\n\u001b[1;32m    139\u001b[0m module \u001b[39m=\u001b[39m module\u001b[39m.\u001b[39mcuda()\n\u001b[1;32m    141\u001b[0m \u001b[39mreturn\u001b[39;00m indices_stayed, indices_pruned\n",
      "File \u001b[0;32m/usr/local/lib/python3.9/site-packages/torch/cuda/__init__.py:164\u001b[0m, in \u001b[0;36m_lazy_init\u001b[0;34m()\u001b[0m\n\u001b[1;32m    160\u001b[0m     \u001b[39mraise\u001b[39;00m \u001b[39mRuntimeError\u001b[39;00m(\n\u001b[1;32m    161\u001b[0m         \u001b[39m\"\u001b[39m\u001b[39mCannot re-initialize CUDA in forked subprocess. To use CUDA with \u001b[39m\u001b[39m\"\u001b[39m\n\u001b[1;32m    162\u001b[0m         \u001b[39m\"\u001b[39m\u001b[39mmultiprocessing, you must use the \u001b[39m\u001b[39m'\u001b[39m\u001b[39mspawn\u001b[39m\u001b[39m'\u001b[39m\u001b[39m start method\u001b[39m\u001b[39m\"\u001b[39m)\n\u001b[1;32m    163\u001b[0m \u001b[39mif\u001b[39;00m \u001b[39mnot\u001b[39;00m \u001b[39mhasattr\u001b[39m(torch\u001b[39m.\u001b[39m_C, \u001b[39m'\u001b[39m\u001b[39m_cuda_getDeviceCount\u001b[39m\u001b[39m'\u001b[39m):\n\u001b[0;32m--> 164\u001b[0m     \u001b[39mraise\u001b[39;00m \u001b[39mAssertionError\u001b[39;00m(\u001b[39m\"\u001b[39m\u001b[39mTorch not compiled with CUDA enabled\u001b[39m\u001b[39m\"\u001b[39m)\n\u001b[1;32m    165\u001b[0m \u001b[39mif\u001b[39;00m _cudart \u001b[39mis\u001b[39;00m \u001b[39mNone\u001b[39;00m:\n\u001b[1;32m    166\u001b[0m     \u001b[39mraise\u001b[39;00m \u001b[39mAssertionError\u001b[39;00m(\n\u001b[1;32m    167\u001b[0m         \u001b[39m\"\u001b[39m\u001b[39mlibcudart functions unavailable. It looks like you have a broken build?\u001b[39m\u001b[39m\"\u001b[39m)\n",
      "\u001b[0;31mAssertionError\u001b[0m: Torch not compiled with CUDA enabled"
     ]
    }
   ],
   "source": [
    "config = easydict.EasyDict()\n",
    "config.exp_name = \"vgg16_exp_cifar100_0\"\n",
    "config.log_dir = os.path.join(\"experiments\", config.exp_name, \"logs/\")\n",
    "\n",
    "config.load_file = os.path.join(\"experiments\", \"vgg16_exp_cifar100_0\",\"checkpoints\", \"checkpoint.pth\")\n",
    "config.cuda = True\n",
    "config.gpu_device = 0\n",
    "config.seed = 1\n",
    "config.milestones = [5, 10,15]\n",
    "config.gamma = 0.9\n",
    "config.img_size = 32\n",
    "config.num_classes = 100\n",
    "config.data_mode = \"download\"\n",
    "config.data_loader_workers = 4\n",
    "config.pin_memory = True\n",
    "config.async_loading = True\n",
    "config.batch_size = 128\n",
    "config.async_loading = True\n",
    "config.max_epoch = 100\n",
    "#torch.cuda.init()\n",
    "\n",
    "#agent = globals()[\"VGG_BN_cifar\"](config)\n",
    "agent = VGG_BN_cifar(config)\n",
    "agent.init_graph()\n",
    "agent.load_checkpoint(config.load_file)\n",
    "agent.compress(method = 'greedy',k=0.62)\n",
    "summary(agent.model, torch.zeros((1, 3, 32, 32)).to(torch.device(\"cuda\")))\n",
    "best,history = agent.train(specializing=False, freeze_conv=False)\n",
    "\n",
    "\n",
    "print(count_model_param_nums(agent.model) / 1e6)\n",
    "print(count_model_flops(agent.model, input_res=32)/ 1e9)\n"
   ]
  },
  {
   "cell_type": "code",
   "execution_count": 24,
   "metadata": {},
   "outputs": [
    {
     "data": {
      "text/plain": [
       "<module 'agents.VGG_cifar' from '/Users/bumuxiyu/Desktop/Tokyo institute of technology/code/ThiNet/Channel-Pruning-using-Thinet-LASSO-/agents/VGG_cifar.py'>"
      ]
     },
     "execution_count": 24,
     "metadata": {},
     "output_type": "execute_result"
    }
   ],
   "source": [
    "globals()[\"VGG_cifar\"]"
   ]
  },
  {
   "cell_type": "code",
   "execution_count": 4,
   "metadata": {},
   "outputs": [
    {
     "data": {
      "text/plain": [
       "0.7082"
      ]
     },
     "execution_count": 4,
     "metadata": {},
     "output_type": "execute_result"
    }
   ],
   "source": [
    "best"
   ]
  },
  {
   "cell_type": "code",
   "execution_count": 5,
   "metadata": {},
   "outputs": [
    {
     "data": {
      "text/plain": [
       "[<matplotlib.lines.Line2D at 0x158eea43708>]"
      ]
     },
     "execution_count": 5,
     "metadata": {},
     "output_type": "execute_result"
    },
    {
     "data": {
      "image/png": "[encoded data removed]",
      "text/plain": [
       "<Figure size 432x288 with 1 Axes>"
      ]
     },
     "metadata": {
      "needs_background": "light"
     },
     "output_type": "display_data"
    }
   ],
   "source": [
    "import matplotlib.pyplot as plt\n",
    "plt.plot(history)"
   ]
  },
  {
   "cell_type": "code",
   "execution_count": null,
   "metadata": {},
   "outputs": [],
   "source": []
  },
  {
   "cell_type": "code",
   "execution_count": null,
   "metadata": {},
   "outputs": [],
   "source": []
  },
  {
   "cell_type": "code",
   "execution_count": null,
   "metadata": {},
   "outputs": [],
   "source": []
  },
  {
   "cell_type": "code",
   "execution_count": null,
   "metadata": {},
   "outputs": [],
   "source": []
  },
  {
   "cell_type": "code",
   "execution_count": null,
   "metadata": {},
   "outputs": [],
   "source": []
  },
  {
   "cell_type": "code",
   "execution_count": null,
   "metadata": {},
   "outputs": [],
   "source": []
  }
 ],
 "metadata": {
  "kernelspec": {
   "display_name": "Python 3.9.6 64-bit",
   "language": "python",
   "name": "python3"
  },
  "language_info": {
   "codemirror_mode": {
    "name": "ipython",
    "version": 3
   },
   "file_extension": ".py",
   "mimetype": "text/x-python",
   "name": "python",
   "nbconvert_exporter": "python",
   "pygments_lexer": "ipython3",
   "version": "3.9.6"
  },
  "vscode": {
   "interpreter": {
    "hash": "aee8b7b246df8f9039afb4144a1f6fd8d2ca17a180786b69acc140d282b71a49"
   }
  }
 },
 "nbformat": 4,
 "nbformat_minor": 4
}
